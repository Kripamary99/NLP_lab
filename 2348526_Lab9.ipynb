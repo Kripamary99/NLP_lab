{
  "cells": [
    {
      "cell_type": "code",
      "execution_count": 1,
      "id": "22a2bea6-7f7c-4b28-87b1-089501a474b7",
      "metadata": {
        "id": "22a2bea6-7f7c-4b28-87b1-089501a474b7"
      },
      "outputs": [],
      "source": [
        "def editDistance(str1, str2, m, n):\n",
        "    if m == 0:\n",
        "        return n\n",
        "    if n == 0:\n",
        "        return m\n",
        "\n",
        "\n",
        "    if str1[m-1] == str2[n-1]:\n",
        "        return editDistance(str1, str2, m-1, n-1)\n",
        "\n",
        "    return 1 + min(editDistance(str1, str2, m, n-1),\n",
        "                   editDistance(str1, str2, m-1, n),\n",
        "                   editDistance(str1, str2, m-1, n-1)\n",
        "                   )\n"
      ]
    },
    {
      "cell_type": "code",
      "execution_count": 2,
      "id": "910422ac-0941-4d65-bf55-37bfacec763a",
      "metadata": {
        "id": "910422ac-0941-4d65-bf55-37bfacec763a",
        "outputId": "506218c0-353d-40c5-8af9-1eefaf521eb5",
        "colab": {
          "base_uri": "https://localhost:8080/"
        }
      },
      "outputs": [
        {
          "output_type": "stream",
          "name": "stdout",
          "text": [
            "Enter First String:marvel\n",
            "Enter Second String:marvin\n",
            "2\n"
          ]
        }
      ],
      "source": [
        "str1=input(\"Enter First String:\")\n",
        "str2=input(\"Enter Second String:\")\n",
        "print(editDistance(str1, str2, len(str1), len(str2)))"
      ]
    },
    {
      "cell_type": "code",
      "execution_count": 3,
      "id": "8f40a759-689a-4f04-89c2-06d443ecd92e",
      "metadata": {
        "id": "8f40a759-689a-4f04-89c2-06d443ecd92e"
      },
      "outputs": [],
      "source": [
        "import numpy as np\n",
        "import pandas as pd\n",
        "import matplotlib.pyplot as plt\n",
        "import tensorflow.keras.utils as ku\n",
        "from tensorflow.keras.preprocessing.sequence import pad_sequences\n",
        "from tensorflow.keras.layers import Embedding, LSTM, Dense, Dropout, Bidirectional\n",
        "from tensorflow.keras.preprocessing.text import Tokenizer\n",
        "from tensorflow.keras.models import Sequential\n",
        "from tensorflow.keras.optimizers import Adam\n",
        "from tensorflow.keras import regularizers"
      ]
    },
    {
      "cell_type": "code",
      "execution_count": 4,
      "id": "3c9b4a40-6344-492a-8b1d-f3e8d6b0f5d2",
      "metadata": {
        "id": "3c9b4a40-6344-492a-8b1d-f3e8d6b0f5d2",
        "outputId": "113f8a5e-28d9-4365-c469-50873351c0c6",
        "colab": {
          "base_uri": "https://localhost:8080/"
        }
      },
      "outputs": [
        {
          "output_type": "stream",
          "name": "stdout",
          "text": [
            "Total Words: 31\n"
          ]
        }
      ],
      "source": [
        "data = open('/content/poem.txt', encoding=\"utf8\").read()\n",
        "corpus = data.lower().split(\"\\n\")\n",
        "tokenizer = Tokenizer()\n",
        "tokenizer.fit_on_texts(corpus)\n",
        "total_words = len(tokenizer.word_index)\n",
        "\n",
        "print(\"Total Words:\", total_words)"
      ]
    },
    {
      "cell_type": "code",
      "execution_count": 5,
      "id": "64c14f08-3b29-4552-9325-f15b48f1a7d2",
      "metadata": {
        "id": "64c14f08-3b29-4552-9325-f15b48f1a7d2"
      },
      "outputs": [],
      "source": [
        "input_sequences = []\n",
        "for line in corpus:\n",
        "    token_list = tokenizer.texts_to_sequences([line])[0]\n",
        "    for i in range(1, len(token_list)):\n",
        "        n_gram_sequence = token_list[:i+1]\n",
        "        input_sequences.append(n_gram_sequence)\n",
        "\n",
        "max_sequence_len = max([len(x) for x in input_sequences])\n",
        "input_sequences = np.array(pad_sequences(input_sequences, maxlen=max_sequence_len, padding='pre'))\n",
        "predictors, label = input_sequences[:, :-1], input_sequences[:, -1]\n",
        "label = ku.to_categorical(label, num_classes=total_words+1)"
      ]
    },
    {
      "cell_type": "code",
      "execution_count": 6,
      "id": "fa90944d-9b28-4b1f-b2c3-9c003d9b8f41",
      "metadata": {
        "id": "fa90944d-9b28-4b1f-b2c3-9c003d9b8f41",
        "outputId": "fd06a210-b695-47eb-feaf-2f221c35e05b",
        "colab": {
          "base_uri": "https://localhost:8080/"
        }
      },
      "outputs": [
        {
          "output_type": "stream",
          "name": "stdout",
          "text": [
            "Model: \"sequential\"\n",
            "_________________________________________________________________\n",
            " Layer (type)                Output Shape              Param #   \n",
            "=================================================================\n",
            " embedding (Embedding)       (None, 8, 3)              96        \n",
            "                                                                 \n",
            " bidirectional (Bidirection  (None, 8, 300)            184800    \n",
            " al)                                                             \n",
            "                                                                 \n",
            " dropout (Dropout)           (None, 8, 300)            0         \n",
            "                                                                 \n",
            " lstm_1 (LSTM)               (None, 100)               160400    \n",
            "                                                                 \n",
            " dense (Dense)               (None, 31)                3131      \n",
            "                                                                 \n",
            " dense_1 (Dense)             (None, 32)                1024      \n",
            "                                                                 \n",
            "=================================================================\n",
            "Total params: 349451 (1.33 MB)\n",
            "Trainable params: 349451 (1.33 MB)\n",
            "Non-trainable params: 0 (0.00 Byte)\n",
            "_________________________________________________________________\n",
            "None\n"
          ]
        }
      ],
      "source": [
        "model = Sequential()\n",
        "model.add(Embedding(total_words+1, 3, input_length=max_sequence_len-1))\n",
        "model.add(Bidirectional(LSTM(150, return_sequences=True)))\n",
        "model.add(Dropout(0.2))\n",
        "model.add(LSTM(100))\n",
        "model.add(Dense(total_words+1/2, activation='relu', kernel_regularizer=regularizers.l2(0.01)))\n",
        "model.add(Dense(total_words+1, activation='softmax'))\n",
        "model.compile(loss='categorical_crossentropy', optimizer='adam', metrics=['accuracy'])\n",
        "print(model.summary())"
      ]
    },
    {
      "cell_type": "code",
      "execution_count": 10,
      "id": "57276904-7921-477c-a3a1-22449b2fbd16",
      "metadata": {
        "id": "57276904-7921-477c-a3a1-22449b2fbd16",
        "outputId": "7257dca6-4764-4376-97b0-accc83e1ba19",
        "colab": {
          "base_uri": "https://localhost:8080/"
        }
      },
      "outputs": [
        {
          "output_type": "stream",
          "name": "stdout",
          "text": [
            "Epoch 1/100\n",
            "2/2 [==============================] - 0s 47ms/step - loss: 3.8781 - accuracy: 0.2000\n",
            "Epoch 2/100\n",
            "2/2 [==============================] - 0s 39ms/step - loss: 3.8615 - accuracy: 0.2000\n",
            "Epoch 3/100\n",
            "2/2 [==============================] - 0s 41ms/step - loss: 3.8431 - accuracy: 0.2000\n",
            "Epoch 4/100\n",
            "2/2 [==============================] - 0s 43ms/step - loss: 3.8210 - accuracy: 0.2000\n",
            "Epoch 5/100\n",
            "2/2 [==============================] - 0s 45ms/step - loss: 3.7993 - accuracy: 0.1636\n",
            "Epoch 6/100\n",
            "2/2 [==============================] - 0s 39ms/step - loss: 3.7682 - accuracy: 0.2000\n",
            "Epoch 7/100\n",
            "2/2 [==============================] - 0s 45ms/step - loss: 3.7321 - accuracy: 0.1636\n",
            "Epoch 8/100\n",
            "2/2 [==============================] - 0s 41ms/step - loss: 3.6896 - accuracy: 0.1636\n",
            "Epoch 9/100\n",
            "2/2 [==============================] - 0s 39ms/step - loss: 3.6541 - accuracy: 0.1455\n",
            "Epoch 10/100\n",
            "2/2 [==============================] - 0s 43ms/step - loss: 3.6100 - accuracy: 0.1455\n",
            "Epoch 11/100\n",
            "2/2 [==============================] - 0s 40ms/step - loss: 3.5521 - accuracy: 0.1455\n",
            "Epoch 12/100\n",
            "2/2 [==============================] - 0s 39ms/step - loss: 3.4817 - accuracy: 0.1455\n",
            "Epoch 13/100\n",
            "2/2 [==============================] - 0s 39ms/step - loss: 3.4001 - accuracy: 0.1818\n",
            "Epoch 14/100\n",
            "2/2 [==============================] - 0s 46ms/step - loss: 3.3355 - accuracy: 0.1636\n",
            "Epoch 15/100\n",
            "2/2 [==============================] - 0s 38ms/step - loss: 3.3038 - accuracy: 0.1818\n",
            "Epoch 16/100\n",
            "2/2 [==============================] - 0s 38ms/step - loss: 3.2492 - accuracy: 0.1818\n",
            "Epoch 17/100\n",
            "2/2 [==============================] - 0s 39ms/step - loss: 3.2011 - accuracy: 0.1818\n",
            "Epoch 18/100\n",
            "2/2 [==============================] - 0s 39ms/step - loss: 3.1662 - accuracy: 0.1636\n",
            "Epoch 19/100\n",
            "2/2 [==============================] - 0s 44ms/step - loss: 3.1127 - accuracy: 0.1818\n",
            "Epoch 20/100\n",
            "2/2 [==============================] - 0s 41ms/step - loss: 3.0516 - accuracy: 0.1818\n",
            "Epoch 21/100\n",
            "2/2 [==============================] - 0s 46ms/step - loss: 3.0302 - accuracy: 0.2000\n",
            "Epoch 22/100\n",
            "2/2 [==============================] - 0s 42ms/step - loss: 2.9739 - accuracy: 0.2000\n",
            "Epoch 23/100\n",
            "2/2 [==============================] - 0s 39ms/step - loss: 2.9512 - accuracy: 0.2545\n",
            "Epoch 24/100\n",
            "2/2 [==============================] - 0s 39ms/step - loss: 2.9073 - accuracy: 0.2545\n",
            "Epoch 25/100\n",
            "2/2 [==============================] - 0s 41ms/step - loss: 2.8822 - accuracy: 0.2182\n",
            "Epoch 26/100\n",
            "2/2 [==============================] - 0s 46ms/step - loss: 2.8107 - accuracy: 0.2545\n",
            "Epoch 27/100\n",
            "2/2 [==============================] - 0s 39ms/step - loss: 2.7658 - accuracy: 0.2545\n",
            "Epoch 28/100\n",
            "2/2 [==============================] - 0s 47ms/step - loss: 2.7277 - accuracy: 0.2727\n",
            "Epoch 29/100\n",
            "2/2 [==============================] - 0s 38ms/step - loss: 2.6961 - accuracy: 0.2727\n",
            "Epoch 30/100\n",
            "2/2 [==============================] - 0s 40ms/step - loss: 2.6724 - accuracy: 0.2364\n",
            "Epoch 31/100\n",
            "2/2 [==============================] - 0s 39ms/step - loss: 2.6184 - accuracy: 0.2909\n",
            "Epoch 32/100\n",
            "2/2 [==============================] - 0s 59ms/step - loss: 2.6447 - accuracy: 0.3091\n",
            "Epoch 33/100\n",
            "2/2 [==============================] - 0s 39ms/step - loss: 2.5786 - accuracy: 0.3091\n",
            "Epoch 34/100\n",
            "2/2 [==============================] - 0s 38ms/step - loss: 2.5711 - accuracy: 0.3455\n",
            "Epoch 35/100\n",
            "2/2 [==============================] - 0s 42ms/step - loss: 2.5219 - accuracy: 0.3091\n",
            "Epoch 36/100\n",
            "2/2 [==============================] - 0s 50ms/step - loss: 2.4710 - accuracy: 0.3273\n",
            "Epoch 37/100\n",
            "2/2 [==============================] - 0s 45ms/step - loss: 2.4440 - accuracy: 0.3091\n",
            "Epoch 38/100\n",
            "2/2 [==============================] - 0s 44ms/step - loss: 2.3830 - accuracy: 0.3636\n",
            "Epoch 39/100\n",
            "2/2 [==============================] - 0s 49ms/step - loss: 2.3502 - accuracy: 0.3818\n",
            "Epoch 40/100\n",
            "2/2 [==============================] - 0s 44ms/step - loss: 2.3077 - accuracy: 0.3455\n",
            "Epoch 41/100\n",
            "2/2 [==============================] - 0s 47ms/step - loss: 2.2738 - accuracy: 0.4182\n",
            "Epoch 42/100\n",
            "2/2 [==============================] - 0s 47ms/step - loss: 2.2379 - accuracy: 0.4364\n",
            "Epoch 43/100\n",
            "2/2 [==============================] - 0s 51ms/step - loss: 2.2110 - accuracy: 0.4182\n",
            "Epoch 44/100\n",
            "2/2 [==============================] - 0s 44ms/step - loss: 2.1715 - accuracy: 0.4909\n",
            "Epoch 45/100\n",
            "2/2 [==============================] - 0s 45ms/step - loss: 2.1179 - accuracy: 0.4909\n",
            "Epoch 46/100\n",
            "2/2 [==============================] - 0s 46ms/step - loss: 2.0752 - accuracy: 0.5273\n",
            "Epoch 47/100\n",
            "2/2 [==============================] - 0s 47ms/step - loss: 2.0469 - accuracy: 0.4909\n",
            "Epoch 48/100\n",
            "2/2 [==============================] - 0s 45ms/step - loss: 2.0080 - accuracy: 0.5091\n",
            "Epoch 49/100\n",
            "2/2 [==============================] - 0s 44ms/step - loss: 1.9586 - accuracy: 0.5091\n",
            "Epoch 50/100\n",
            "2/2 [==============================] - 0s 47ms/step - loss: 1.9402 - accuracy: 0.5273\n",
            "Epoch 51/100\n",
            "2/2 [==============================] - 0s 46ms/step - loss: 1.9258 - accuracy: 0.5636\n",
            "Epoch 52/100\n",
            "2/2 [==============================] - 0s 48ms/step - loss: 1.9248 - accuracy: 0.4909\n",
            "Epoch 53/100\n",
            "2/2 [==============================] - 0s 59ms/step - loss: 1.9062 - accuracy: 0.6000\n",
            "Epoch 54/100\n",
            "2/2 [==============================] - 0s 51ms/step - loss: 1.8162 - accuracy: 0.5455\n",
            "Epoch 55/100\n",
            "2/2 [==============================] - 0s 44ms/step - loss: 1.8130 - accuracy: 0.5818\n",
            "Epoch 56/100\n",
            "2/2 [==============================] - 0s 41ms/step - loss: 1.7978 - accuracy: 0.6182\n",
            "Epoch 57/100\n",
            "2/2 [==============================] - 0s 39ms/step - loss: 1.6933 - accuracy: 0.6364\n",
            "Epoch 58/100\n",
            "2/2 [==============================] - 0s 39ms/step - loss: 1.7224 - accuracy: 0.6364\n",
            "Epoch 59/100\n",
            "2/2 [==============================] - 0s 41ms/step - loss: 1.6571 - accuracy: 0.6000\n",
            "Epoch 60/100\n",
            "2/2 [==============================] - 0s 39ms/step - loss: 1.6248 - accuracy: 0.6364\n",
            "Epoch 61/100\n",
            "2/2 [==============================] - 0s 39ms/step - loss: 1.6183 - accuracy: 0.6364\n",
            "Epoch 62/100\n",
            "2/2 [==============================] - 0s 46ms/step - loss: 1.5723 - accuracy: 0.6364\n",
            "Epoch 63/100\n",
            "2/2 [==============================] - 0s 42ms/step - loss: 1.5614 - accuracy: 0.6364\n",
            "Epoch 64/100\n",
            "2/2 [==============================] - 0s 57ms/step - loss: 1.5245 - accuracy: 0.6545\n",
            "Epoch 65/100\n",
            "2/2 [==============================] - 0s 38ms/step - loss: 1.5124 - accuracy: 0.6727\n",
            "Epoch 66/100\n",
            "2/2 [==============================] - 0s 48ms/step - loss: 1.4853 - accuracy: 0.6909\n",
            "Epoch 67/100\n",
            "2/2 [==============================] - 0s 45ms/step - loss: 1.4645 - accuracy: 0.6909\n",
            "Epoch 68/100\n",
            "2/2 [==============================] - 0s 43ms/step - loss: 1.4503 - accuracy: 0.6909\n",
            "Epoch 69/100\n",
            "2/2 [==============================] - 0s 47ms/step - loss: 1.4293 - accuracy: 0.7091\n",
            "Epoch 70/100\n",
            "2/2 [==============================] - 0s 44ms/step - loss: 1.4150 - accuracy: 0.6727\n",
            "Epoch 71/100\n",
            "2/2 [==============================] - 0s 46ms/step - loss: 1.3859 - accuracy: 0.6909\n",
            "Epoch 72/100\n",
            "2/2 [==============================] - 0s 44ms/step - loss: 1.3762 - accuracy: 0.7455\n",
            "Epoch 73/100\n",
            "2/2 [==============================] - 0s 48ms/step - loss: 1.3623 - accuracy: 0.6727\n",
            "Epoch 74/100\n",
            "2/2 [==============================] - 0s 44ms/step - loss: 1.3805 - accuracy: 0.6909\n",
            "Epoch 75/100\n",
            "2/2 [==============================] - 0s 44ms/step - loss: 1.3330 - accuracy: 0.7091\n",
            "Epoch 76/100\n",
            "2/2 [==============================] - 0s 55ms/step - loss: 1.4067 - accuracy: 0.7091\n",
            "Epoch 77/100\n",
            "2/2 [==============================] - 0s 44ms/step - loss: 1.3909 - accuracy: 0.6000\n",
            "Epoch 78/100\n",
            "2/2 [==============================] - 0s 46ms/step - loss: 1.4209 - accuracy: 0.6545\n",
            "Epoch 79/100\n",
            "2/2 [==============================] - 0s 54ms/step - loss: 1.3664 - accuracy: 0.7091\n",
            "Epoch 80/100\n",
            "2/2 [==============================] - 0s 86ms/step - loss: 1.3171 - accuracy: 0.6909\n",
            "Epoch 81/100\n",
            "2/2 [==============================] - 0s 88ms/step - loss: 1.3428 - accuracy: 0.6545\n",
            "Epoch 82/100\n",
            "2/2 [==============================] - 0s 100ms/step - loss: 1.2610 - accuracy: 0.7455\n",
            "Epoch 83/100\n",
            "2/2 [==============================] - 0s 81ms/step - loss: 1.2880 - accuracy: 0.6909\n",
            "Epoch 84/100\n",
            "2/2 [==============================] - 0s 86ms/step - loss: 1.2352 - accuracy: 0.6909\n",
            "Epoch 85/100\n",
            "2/2 [==============================] - 0s 94ms/step - loss: 1.2443 - accuracy: 0.7273\n",
            "Epoch 86/100\n",
            "2/2 [==============================] - 0s 91ms/step - loss: 1.2386 - accuracy: 0.7455\n",
            "Epoch 87/100\n",
            "2/2 [==============================] - 0s 85ms/step - loss: 1.2105 - accuracy: 0.7273\n",
            "Epoch 88/100\n",
            "2/2 [==============================] - 0s 95ms/step - loss: 1.2067 - accuracy: 0.7455\n",
            "Epoch 89/100\n",
            "2/2 [==============================] - 0s 80ms/step - loss: 1.1998 - accuracy: 0.7273\n",
            "Epoch 90/100\n",
            "2/2 [==============================] - 0s 87ms/step - loss: 1.2200 - accuracy: 0.7273\n",
            "Epoch 91/100\n",
            "2/2 [==============================] - 0s 80ms/step - loss: 1.2009 - accuracy: 0.6909\n",
            "Epoch 92/100\n",
            "2/2 [==============================] - 0s 83ms/step - loss: 1.1681 - accuracy: 0.7455\n",
            "Epoch 93/100\n",
            "2/2 [==============================] - 0s 84ms/step - loss: 1.1372 - accuracy: 0.7818\n",
            "Epoch 94/100\n",
            "2/2 [==============================] - 0s 89ms/step - loss: 1.1286 - accuracy: 0.7273\n",
            "Epoch 95/100\n",
            "2/2 [==============================] - 0s 89ms/step - loss: 1.1227 - accuracy: 0.7455\n",
            "Epoch 96/100\n",
            "2/2 [==============================] - 0s 100ms/step - loss: 1.1159 - accuracy: 0.7273\n",
            "Epoch 97/100\n",
            "2/2 [==============================] - 0s 90ms/step - loss: 1.1000 - accuracy: 0.7455\n",
            "Epoch 98/100\n",
            "2/2 [==============================] - 0s 52ms/step - loss: 1.0847 - accuracy: 0.7636\n",
            "Epoch 99/100\n",
            "2/2 [==============================] - 0s 45ms/step - loss: 1.0698 - accuracy: 0.7818\n",
            "Epoch 100/100\n",
            "2/2 [==============================] - 0s 47ms/step - loss: 1.0737 - accuracy: 0.7636\n"
          ]
        }
      ],
      "source": [
        "history = model.fit(predictors, label, epochs=100, verbose=1)"
      ]
    },
    {
      "cell_type": "markdown",
      "id": "e177bff4-2995-4435-801b-3be1133fc04d",
      "metadata": {
        "id": "e177bff4-2995-4435-801b-3be1133fc04d"
      },
      "source": [
        "### Poem Generation"
      ]
    },
    {
      "cell_type": "code",
      "execution_count": 11,
      "id": "d8b15d42-e42a-44e0-ac9d-514ccb3654ca",
      "metadata": {
        "id": "d8b15d42-e42a-44e0-ac9d-514ccb3654ca",
        "outputId": "3682cf17-0d0c-41f1-b6cc-ddc22b4c94d8",
        "colab": {
          "base_uri": "https://localhost:8080/"
        }
      },
      "outputs": [
        {
          "output_type": "stream",
          "name": "stdout",
          "text": [
            "Enter first few wordsjoy\n",
            "joy first great my grief my joys how few few few thee thee few thee thee thee thee thee thee thee thee know thee thee thee thee thee thee thee thee know thee thee thee thee thee thee thee thee know thee thee thee thee thee thee thee thee know thee\n"
          ]
        }
      ],
      "source": [
        "seed_text = input(\"Enter first few words\")\n",
        "next_words = 50\n",
        "ouptut_text = \"\"\n",
        "\n",
        "for _ in range(next_words):\n",
        "    token_list = tokenizer.texts_to_sequences([seed_text])[0]\n",
        "    token_list = pad_sequences(\n",
        "        [token_list], maxlen=max_sequence_len-1,\n",
        "      padding='pre')\n",
        "    predicted = np.argmax(model.predict(token_list,\n",
        "                                        verbose=0), axis=-1)\n",
        "    output_word = \"\"\n",
        "\n",
        "    for word, index in tokenizer.word_index.items():\n",
        "        if index == predicted:\n",
        "            output_word = word\n",
        "            break\n",
        "\n",
        "    seed_text += \" \" + output_word\n",
        "\n",
        "print(seed_text)"
      ]
    },
    {
      "cell_type": "code",
      "execution_count": null,
      "id": "6ef8d433-ebad-4b91-a76f-39e5a6dda85f",
      "metadata": {
        "id": "6ef8d433-ebad-4b91-a76f-39e5a6dda85f"
      },
      "outputs": [],
      "source": []
    }
  ],
  "metadata": {
    "kernelspec": {
      "display_name": "Python 3 (ipykernel)",
      "language": "python",
      "name": "python3"
    },
    "language_info": {
      "codemirror_mode": {
        "name": "ipython",
        "version": 3
      },
      "file_extension": ".py",
      "mimetype": "text/x-python",
      "name": "python",
      "nbconvert_exporter": "python",
      "pygments_lexer": "ipython3",
      "version": "3.11.7"
    },
    "colab": {
      "provenance": []
    }
  },
  "nbformat": 4,
  "nbformat_minor": 5
}